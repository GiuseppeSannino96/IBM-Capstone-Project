{
    "cells": [
        {
            "cell_type": "markdown",
            "metadata": {},
            "source": "<center>\n    <img src=\"https://gitlab.com/ibm/skills-network/courses/placeholder101/-/raw/master/labs/module%201/images/IDSNlogo.png\" width=\"300\" alt=\"cognitiveclass.ai logo\"  />\n</center>\n"
        },
        {
            "cell_type": "markdown",
            "metadata": {},
            "source": "# **Web Scraping Lab**\n"
        },
        {
            "cell_type": "markdown",
            "metadata": {},
            "source": "Estimated time needed: **30** minutes\n"
        },
        {
            "cell_type": "markdown",
            "metadata": {},
            "source": "## Objectives\n"
        },
        {
            "cell_type": "markdown",
            "metadata": {},
            "source": "After completing this lab you will be able to:\n"
        },
        {
            "cell_type": "markdown",
            "metadata": {},
            "source": "*   Download a webpage using requests module\n*   Scrape all links from a web page\n*   Scrape all image urls from a web page\n*   Scrape data from html tables\n"
        },
        {
            "cell_type": "markdown",
            "metadata": {},
            "source": "## Scrape [www.ibm.com](http://www.ibm.com/?utm_medium=Exinfluencer\\&utm_source=Exinfluencer\\&utm_content=000026UJ\\&utm_term=10006555\\&utm_id=NA-SkillsNetwork-Channel-SkillsNetworkCoursesIBMDA0321ENSkillsNetwork21426264-2021-01-01)\n"
        },
        {
            "cell_type": "markdown",
            "metadata": {},
            "source": "Import the required modules and functions\n"
        },
        {
            "cell_type": "code",
            "execution_count": 1,
            "metadata": {},
            "outputs": [],
            "source": "from bs4 import BeautifulSoup # this module helps in web scrapping.\nimport requests  # this module helps us to download a web page"
        },
        {
            "cell_type": "markdown",
            "metadata": {},
            "source": "Download the contents of the web page\n"
        },
        {
            "cell_type": "code",
            "execution_count": 2,
            "metadata": {},
            "outputs": [],
            "source": "url = \"http://www.ibm.com\""
        },
        {
            "cell_type": "code",
            "execution_count": 3,
            "metadata": {},
            "outputs": [],
            "source": "# get the contents of the webpage in text format and store in a variable called data\ndata  = requests.get(url).text "
        },
        {
            "cell_type": "markdown",
            "metadata": {},
            "source": "Create a soup object using the class BeautifulSoup\n"
        },
        {
            "cell_type": "code",
            "execution_count": 4,
            "metadata": {},
            "outputs": [],
            "source": "soup = BeautifulSoup(data,\"html5lib\")  # create a soup object using the variable 'data'"
        },
        {
            "cell_type": "markdown",
            "metadata": {},
            "source": "Scrape all links\n"
        },
        {
            "cell_type": "code",
            "execution_count": 5,
            "metadata": {},
            "outputs": [
                {
                    "name": "stdout",
                    "output_type": "stream",
                    "text": "https://www.ibm.com/de/de\n\nhttps://www.ibm.com/de-de/products?lnk=hpmps_bupr_dede&lnk2=link\nhttps://www.ibm.com/de-de/industries?lnk=hpmps_buin_dede&lnk2=link\nhttps://www.ibm.com/de-de/artificial-intelligence?lnk=hpmps_buai_dede&lnk2=link\nhttps://www.ibm.com/de-de/automation?lnk=hpmps_buau_dede&lnk2=link\nhttps://www.ibm.com/de-de/blockchain?lnk=hpmps_bubc_dede&lnk2=link\nhttps://www.ibm.com/de-de/business-operations?lnk=hpmps_buop_dede&lnk2=link\nhttps://www.ibm.com/de-de/cloud?lnk=hpmps_bucl_dede&lnk2=link\nhttps://www.ibm.com/de-de/analytics?lnk=hpmps_buda_dede&lnk2=link\nhttps://www.ibm.com/de-de/it-infrastructure?lnk=hpmps_buit_dede&lnk2=link\nhttps://www.ibm.com/de-de/security?lnk=hpmps_buse_dede&lnk2=link\nhttps://www.ibm.com/de-de/supply-chain?lnk=hpmps_busc_dede&lnk2=link\nhttps://www.ibm.com/de-de/financing?lnk=hpmps_bufi_dede&lnk2=link\nhttps://www.ibm.com/de-de/products?lnk=hpmps_buall_dede&lnk2=link\n\nhttps://www.ibm.com/de-de/services/process?lnk=hpmsc_bups_dede&lnk2=link\nhttps://www.ibm.com/services/de-de/ibmix/?lnk=hpmsc_budbs_dede&lnk2=link\nhttps://www.ibm.com/de-de/services/cloud?lnk=hpmsc_buhs?lnk=hpmsc_buhs_dede\nhttps://www.ibm.com/de-de/talent-management?lnk=hpmsc_buta_dede&lnk2=link\nhttps://www.ibm.com/de-de/services/applications?lnk=hpmsc_buas_dede&lnk2=link\nhttps://www.ibm.com/de-de/security/services?lnk=hpmsc_buse_dede&lnk2=link\nhttps://www.ibm.com/de-de/services/technology-support?lnk=hpmsc_busv_dede&lnk2=link\nhttps://www.ibm.com/de-de/financing/solutions/it-services-financing?lnk=hpmsc_bufi_dede&lnk2=link\nhttps://www.ibm.com/de-de/services?lnk=hpmsc_buall_dede&lnk2=link\n\nhttps://www.ibm.com/support/de/de/?lnk=hpmls_busu_dede&lnk2=link\nhttps://www.ibm.com/support/knowledgecenter/?lnk=hpmls_budc_dede&lnk2=link\nhttps://developer.ibm.com/?lnk=hpmls_bude_dede&lnk2=link\nhttps://www.ibm.com/training/?lnk=hpmls_butr_dede&lnk2=link\nhttps://www.ibm.com/blogs/?lnk=hpmls_bure_dede&lnk2=link\nhttps://www.ibm.com/cloud/learn?lnk=hpmls_buwi_dede&lnk2=link\n\nhttps://www.ibm.com/de-de/partnerworld/public?lnk=hpmex_bupa_dede&lnk2=link\nhttps://www.research.ibm.com/?lnk=hpmex_bure_dede&lnk2=link\nhttps://www.ibm.com/de-de/about?lnk=hpmex_buab_dede&lnk2=link\nhttps://www.ibm.com/de-de/impact/covid-19?lnk=hpmex_buco_dede&lnk2=link\nhttps://www.ibm.com/sitemap/de/de\nhttps://www.ibm.com/de-de/events/think/events/think-popup-at-IAA?lnk=dehpv18l1\nhttps://de.newsroom.ibm.com/IBM_stellt_On-Chip-beschleunigten_Prozessor_fur_KI_vor?lnk=dehpv18nf1\nhttps://ibmix.de/events/dmexco2021?lnk=dehpv18l4\nhttps://www.ibm.com/blogs/think/de-de/2021/08/cloud-satellite-travelping/?lnk=dehpv18f1\nhttps://www.ibm.com/de-de/garage?lnk=dehpv18f3\nhttps://www.ibm.com/blogs/digitale-perspektive/2021/07/it-modernisierung-quo-vadis/?lnk=dehpv18f5\nhttps://www.ibm.com/de-de/events?lnk=dehpv18f2\n/de-de/products/offers-and-discounts\n/de-de/products/cloud-pak-for-data\n/de-de/cloud/watson-discovery\n/de-de/cloud/cloud-pak-for-business-automation\n/de-de/products/planning-analytics\n/products/digital-learning-subscription/pricing?lnk=dehpv18t1\nhttps://developer.ibm.com/depmodels/cloud/?lnk=hpv18ct16\nhttps://developer.ibm.com/technologies/artificial-intelligence?lnk=hpv18ct19\nhttps://www.ibm.com/demos/?lnk=hpv18ct12\nhttps://developer.ibm.com/?lnk=hpv18ct9\nhttps://www.ibm.com/docs/en?lnk=hpv18ct14\nhttps://www.redbooks.ibm.com/?lnk=ushpv18ct10\nhttps://www.ibm.com/support/home/?lnk=hpv18ct11\nhttps://www.ibm.com/training/?lnk=hpv18ct15\n/de-de/cloud/hybrid?lnk=hpv18pt14\n/cloud/learn/public-cloud?lnk=hpv18ct1\n/de-de/watson?lnk=ushpv18pt17\n/de-de/garage?lnk=hpv18pt13\n/de-de/blockchain?lnk=hpv18pt4\nhttps://www.ibm.com/thought-leadership/institute-business-value/?lnk=hpv18pt12\n/de-de/analytics?lnk=hpv18pt1\n/de-de/security?lnk=hpv18pt9\n/de-de/financing?lnk=hpv18pt3\nhttps://www.ibm.com/de-de/quantum-computing?lnk=hpv18pt16\n/de-de/cloud/hybrid?lnk=hpv18ct20\n/cloud/learn/public-cloud?lnk=hpv18ct1\n/de-de/cloud/redhat?lnk=hpv18ct13\n/de-de/watson?lnk=hpv18ct3\nhttps://www.ibm.com/de-de/quantum-computing?lnk=hpv18ct18\n/cloud/learn/kubernetes?lnk=hpv18ct8\n/de-de/products/spss-statistics?lnk=ushpv18ct7\n/de-de/blockchain?lnk=hpv18ct1\nhttps://www.ibm.com/de-de/employment?lnk=hpv18ct2\nhttps://www.ibm.com/case-studies/coca-cola-european-partners/?lnk=hpv18cs1\n/case-studies/search?lnk=hpv18cs2\nhttps://www.ibm.com/de-de/products/?lnk=fdi\nhttps://www.ibm.com/software/de/info/trials/?lnk=STW_DE_HPF_THP_FT_TL&lnk2=goto_THP\nhttps://www.ibm.com/de-de/marketplace/collections/offers-and-discounts/?lnk=STW_DE_HPF_DISC_FT_TL&lnk2=goto_MPDISC\nhttps://www.ibm.com/technologyservices/de/de/?lnk=fdi-dede\nhttps://www.ibm.com/de-de/industries\nhttps://www.ibm.com/ibm/clientreference/us/en/?lnk=fdi-dede\nhttps://www.ibm.com/de-de/events?lnk=fdi-dede\nhttps://www.ibm.com/de-de/blogs/think/?lnk=fdi-dede\nhttps://www.ibm.com/marketing/de-de/das-ist-ibm/\nhttps://www.ibm.com/de-de/financing\nhttps://www.ibm.com/developerworks/?lnk=fif-dede\nhttps://www.ibm.com/de-de/partnerworld/public\nhttps://www.ibm.com/partners/start/?lnk=fif-dede\nhttps://www.ibm.com/support/de/de/?lnk=fcw-dede\nhttps://www.ibm.com/partnerworld/public\nhttps://myibm.ibm.com/dashboard/?lnk=mmi_dede\nhttps://www.ibm.com/employment/de-de/?lnk=fab-dede\nhttps://de.newsroom.ibm.com/\nhttps://www.ibm.com/investor/?lnk=fab-dede\nhttps://www.ibm.com/ibm/de/de/?lnk=fab-dede\nhttps://www.ibm.com/ibm/clientcenter/boeblingen/\nhttps://www.ibm.com/ibm/clientcenter/ehningen/?lnk=fab-dede\nhttps://www.ibm.com/internet-of-things/learn/munich-iot-center\nhttps://www.ibm.com/contact/de/de/?lnk=flg-cont-dede\nhttps://www.ibm.com/de-de/privacy?lnk=flg-priv-dede\nhttps://www.ibm.com/de-de/legal?lnk=flg-tous-dede\nhttps://www.ibm.com/able?lnk=flg-able-dede\nhttps://www.ibm.com/ibm/de/de\n#\n"
                }
            ],
            "source": "for link in soup.find_all('a'):  # in html anchor/link is represented by the tag <a>\n    print(link.get('href'))"
        },
        {
            "cell_type": "markdown",
            "metadata": {},
            "source": "Scrape  all images\n"
        },
        {
            "cell_type": "code",
            "execution_count": 6,
            "metadata": {},
            "outputs": [
                {
                    "name": "stdout",
                    "output_type": "stream",
                    "text": "//1.cms.s81c.com/sites/default/files/2021-08-20/ibmix-demexco-444x254.jpg\n//1.cms.s81c.com/sites/default/files/2021-08-20/ibm-cloud-satellite-444x254.jpg\n//1.cms.s81c.com/sites/default/files/2021-08-27/20210607-ls-garage-tour-444x254.png\n//1.cms.s81c.com/sites/default/files/2021-08-13/quo-vadis-moderiniserung-blog-444x254.png\n//1.cms.s81c.com/sites/default/files/2021-08-05/03062020-dede-dach-events-444x254.jpg\n//1.cms.s81c.com/sites/default/files/2021-04-28/Cloud-Pak-for-Data-22396-700x420%5B1%5D.png\n//1.cms.s81c.com/sites/default/files/2021-04-28/watson-discovery-trial_700x420%5B1%5D.png\n//1.cms.s81c.com/sites/default/files/2021-04-28/Cloud-pak-for-automation-444x260%5B1%5D.png\n//1.cms.s81c.com/sites/default/files/2021-04-28/Planning-Analytics-22201-700x420%5B1%5D.png\n//1.cms.s81c.com/sites/default/files/2021-04-29/ibm-cloud-learning-444x254_0.png\n"
                }
            ],
            "source": "for link in soup.find_all('img'):# in html image is represented by the tag <img>\n    print(link.get('src'))"
        },
        {
            "cell_type": "markdown",
            "metadata": {},
            "source": "## Scrape data from html tables\n"
        },
        {
            "cell_type": "code",
            "execution_count": null,
            "metadata": {},
            "outputs": [],
            "source": "#The below url contains a html table with data about colors and color codes."
        },
        {
            "cell_type": "code",
            "execution_count": 7,
            "metadata": {},
            "outputs": [],
            "source": "url = \"https://cf-courses-data.s3.us.cloud-object-storage.appdomain.cloud/IBM-DA0321EN-SkillsNetwork/labs/datasets/HTMLColorCodes.html\""
        },
        {
            "cell_type": "markdown",
            "metadata": {},
            "source": "Before proceeding to scrape a web site, you need to examine the contents, and the way data is organized on the website. Open the above url in your browser and check how many rows and columns are there in the color table.\n"
        },
        {
            "cell_type": "code",
            "execution_count": 8,
            "metadata": {},
            "outputs": [],
            "source": "# get the contents of the webpage in text format and store in a variable called data\ndata  = requests.get(url).text"
        },
        {
            "cell_type": "code",
            "execution_count": 9,
            "metadata": {},
            "outputs": [],
            "source": "soup = BeautifulSoup(data,\"html5lib\")"
        },
        {
            "cell_type": "code",
            "execution_count": 10,
            "metadata": {},
            "outputs": [],
            "source": "#find a html table in the web page\ntable = soup.find('table') # in html table is represented by the tag <table>"
        },
        {
            "cell_type": "code",
            "execution_count": 11,
            "metadata": {},
            "outputs": [
                {
                    "name": "stdout",
                    "output_type": "stream",
                    "text": "Color Name--->Hex Code#RRGGBB\nlightsalmon--->#FFA07A\nsalmon--->#FA8072\ndarksalmon--->#E9967A\nlightcoral--->#F08080\ncoral--->#FF7F50\ntomato--->#FF6347\norangered--->#FF4500\ngold--->#FFD700\norange--->#FFA500\ndarkorange--->#FF8C00\nlightyellow--->#FFFFE0\nlemonchiffon--->#FFFACD\npapayawhip--->#FFEFD5\nmoccasin--->#FFE4B5\npeachpuff--->#FFDAB9\npalegoldenrod--->#EEE8AA\nkhaki--->#F0E68C\ndarkkhaki--->#BDB76B\nyellow--->#FFFF00\nlawngreen--->#7CFC00\nchartreuse--->#7FFF00\nlimegreen--->#32CD32\nlime--->#00FF00\nforestgreen--->#228B22\ngreen--->#008000\npowderblue--->#B0E0E6\nlightblue--->#ADD8E6\nlightskyblue--->#87CEFA\nskyblue--->#87CEEB\ndeepskyblue--->#00BFFF\nlightsteelblue--->#B0C4DE\ndodgerblue--->#1E90FF\n"
                }
            ],
            "source": "#Get all rows from the table\nfor row in table.find_all('tr'): # in html table row is represented by the tag <tr>\n    # Get all columns in each row.\n    cols = row.find_all('td') # in html a column is represented by the tag <td>\n    color_name = cols[2].getText() # store the value in column 3 as color_name\n    color_code = cols[3].getText() # store the value in column 4 as color_code\n    print(\"{}--->{}\".format(color_name,color_code))"
        },
        {
            "cell_type": "markdown",
            "metadata": {},
            "source": "## Authors\n"
        },
        {
            "cell_type": "markdown",
            "metadata": {},
            "source": "Ramesh Sannareddy\n"
        },
        {
            "cell_type": "markdown",
            "metadata": {},
            "source": "### Other Contributors\n"
        },
        {
            "cell_type": "markdown",
            "metadata": {},
            "source": "Rav Ahuja\n"
        },
        {
            "cell_type": "markdown",
            "metadata": {},
            "source": "## Change Log\n"
        },
        {
            "cell_type": "markdown",
            "metadata": {},
            "source": "| Date (YYYY-MM-DD) | Version | Changed By        | Change Description                 |\n| ----------------- | ------- | ----------------- | ---------------------------------- |\n| 2020-10-17        | 0.1     | Ramesh Sannareddy | Created initial version of the lab |\n"
        },
        {
            "cell_type": "markdown",
            "metadata": {},
            "source": "Copyright \u00a9 2020 IBM Corporation. This notebook and its source code are released under the terms of the [MIT License](https://cognitiveclass.ai/mit-license/?utm_medium=Exinfluencer\\&utm_source=Exinfluencer\\&utm_content=000026UJ\\&utm_term=10006555\\&utm_id=NA-SkillsNetwork-Channel-SkillsNetworkCoursesIBMDA0321ENSkillsNetwork21426264-2021-01-01).\n"
        }
    ],
    "metadata": {
        "kernelspec": {
            "display_name": "Python 3.8",
            "language": "python",
            "name": "python3"
        },
        "language_info": {
            "codemirror_mode": {
                "name": "ipython",
                "version": 3
            },
            "file_extension": ".py",
            "mimetype": "text/x-python",
            "name": "python",
            "nbconvert_exporter": "python",
            "pygments_lexer": "ipython3",
            "version": "3.8.10"
        }
    },
    "nbformat": 4,
    "nbformat_minor": 4
}